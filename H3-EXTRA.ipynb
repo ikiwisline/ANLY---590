{
  "nbformat": 4,
  "nbformat_minor": 0,
  "metadata": {
    "colab": {
      "name": "H3-Kiwi.ipynb",
      "provenance": [],
      "collapsed_sections": []
    },
    "kernelspec": {
      "display_name": "Python 3",
      "language": "python",
      "name": "python3"
    },
    "language_info": {
      "codemirror_mode": {
        "name": "ipython",
        "version": 3
      },
      "file_extension": ".py",
      "mimetype": "text/x-python",
      "name": "python",
      "nbconvert_exporter": "python",
      "pygments_lexer": "ipython3",
      "version": "3.7.4"
    }
  },
  "cells": [
    {
      "cell_type": "code",
      "metadata": {
        "id": "QgiW31Z0sutm"
      },
      "source": [
        "import numpy as np\n",
        "import matplotlib.pyplot as plt\n",
        "import tensorflow as tf\n",
        "import tensorflow.keras as tfk\n",
        "import tensorflow_datasets as tfds\n",
        "import torch\n",
        "import torchvision\n",
        "import torchvision.transforms as transforms\n",
        "\n",
        "tfkl = tfk.layers"
      ],
      "execution_count": 1,
      "outputs": []
    },
    {
      "cell_type": "code",
      "metadata": {
        "id": "5q3mQVkIRoHt"
      },
      "source": [
        "import pandas as pd"
      ],
      "execution_count": null,
      "outputs": []
    },
    {
      "cell_type": "code",
      "metadata": {
        "id": "U_G8b-K7RoHt"
      },
      "source": [
        "df = pd.read_csv(\"SPAM_detection.csv\")"
      ],
      "execution_count": null,
      "outputs": []
    },
    {
      "cell_type": "code",
      "metadata": {
        "id": "9yB0i5iYRoHt"
      },
      "source": [
        "df[\"Message\"] = df[\"Message\"].str.lower()"
      ],
      "execution_count": null,
      "outputs": []
    },
    {
      "cell_type": "code",
      "metadata": {
        "id": "do3lmb3yRoHu"
      },
      "source": [
        "from sklearn.feature_extraction.text import TfidfVectorizer\n",
        "\n",
        "tfidf = TfidfVectorizer(stop_words=\"english\",max_features=1000)\n",
        "X = tfidf.fit_transform(df[\"Message\"]).toarray()\n",
        "Y = df[\"category_val\"].values\n",
        "\n",
        "X_train =X[:, :, None]"
      ],
      "execution_count": null,
      "outputs": []
    },
    {
      "cell_type": "code",
      "metadata": {
        "id": "5L7zPmyFRoHu"
      },
      "source": [
        "from sklearn.model_selection import train_test_split\n",
        "\n",
        "X_train, X_test, y_train, y_test = train_test_split(X_train, Y, test_size=0.2, random_state=0)"
      ],
      "execution_count": null,
      "outputs": []
    },
    {
      "cell_type": "code",
      "metadata": {
        "id": "URsj0by7RoHu",
        "outputId": "89cefa95-a9b5-43d8-8083-a3534c2eeb43"
      },
      "source": [
        "#LSTM\n",
        "model = tfk.Sequential()\n",
        "model.add(tfkl.LSTM(64, input_shape=X_train.shape[1:]))\n",
        "model.add(tfkl.Dense(8,activation=\"relu\"))\n",
        "model.add(tfkl.Dense(1,activation=\"sigmoid\"))\n",
        "model.compile(loss='binary_crossentropy', optimizer=tfk.optimizers.Adam(),metrics=[\"accuracy\"])\n",
        "model.summary()"
      ],
      "execution_count": null,
      "outputs": [
        {
          "output_type": "stream",
          "text": [
            "Model: \"sequential_10\"\n",
            "_________________________________________________________________\n",
            "Layer (type)                 Output Shape              Param #   \n",
            "=================================================================\n",
            "lstm_5 (LSTM)                (None, 64)                16896     \n",
            "_________________________________________________________________\n",
            "dense_19 (Dense)             (None, 8)                 520       \n",
            "_________________________________________________________________\n",
            "dense_20 (Dense)             (None, 1)                 9         \n",
            "=================================================================\n",
            "Total params: 17,425\n",
            "Trainable params: 17,425\n",
            "Non-trainable params: 0\n",
            "_________________________________________________________________\n"
          ],
          "name": "stdout"
        }
      ]
    },
    {
      "cell_type": "code",
      "metadata": {
        "id": "YM_mqGIDRoHu",
        "outputId": "3102ca88-ef5b-4679-c9c7-ac1d55094666"
      },
      "source": [
        "model.fit(X_train,y_train,epochs=20, validation_data=(X_test, y_test))"
      ],
      "execution_count": null,
      "outputs": [
        {
          "output_type": "stream",
          "text": [
            "Epoch 1/20\n",
            "140/140 [==============================] - 42s 303ms/step - loss: 0.4280 - accuracy: 0.8676 - val_loss: 0.4115 - val_accuracy: 0.8565\n",
            "Epoch 2/20\n",
            "140/140 [==============================] - 34s 242ms/step - loss: 0.3915 - accuracy: 0.8683 - val_loss: 0.4159 - val_accuracy: 0.8565\n",
            "Epoch 3/20\n",
            "140/140 [==============================] - 34s 240ms/step - loss: 0.3901 - accuracy: 0.8683 - val_loss: 0.4113 - val_accuracy: 0.8565\n",
            "Epoch 4/20\n",
            "140/140 [==============================] - 34s 244ms/step - loss: 0.3910 - accuracy: 0.8683 - val_loss: 0.4147 - val_accuracy: 0.8565\n",
            "Epoch 5/20\n",
            "140/140 [==============================] - 34s 244ms/step - loss: 0.3908 - accuracy: 0.8683 - val_loss: 0.4166 - val_accuracy: 0.8565\n",
            "Epoch 6/20\n",
            "140/140 [==============================] - 34s 245ms/step - loss: 0.3912 - accuracy: 0.8683 - val_loss: 0.4125 - val_accuracy: 0.8565\n",
            "Epoch 7/20\n",
            "140/140 [==============================] - 35s 250ms/step - loss: 0.3903 - accuracy: 0.8683 - val_loss: 0.4111 - val_accuracy: 0.8565\n",
            "Epoch 8/20\n",
            "140/140 [==============================] - 36s 259ms/step - loss: 0.3902 - accuracy: 0.8683 - val_loss: 0.4111 - val_accuracy: 0.8565\n",
            "Epoch 9/20\n",
            "140/140 [==============================] - 35s 250ms/step - loss: 0.3905 - accuracy: 0.8683 - val_loss: 0.4115 - val_accuracy: 0.8565\n",
            "Epoch 10/20\n",
            "140/140 [==============================] - 35s 252ms/step - loss: 0.3900 - accuracy: 0.8683 - val_loss: 0.4110 - val_accuracy: 0.8565\n",
            "Epoch 11/20\n",
            "140/140 [==============================] - 35s 247ms/step - loss: 0.3900 - accuracy: 0.8683 - val_loss: 0.4124 - val_accuracy: 0.8565\n",
            "Epoch 12/20\n",
            "140/140 [==============================] - 35s 253ms/step - loss: 0.3901 - accuracy: 0.8683 - val_loss: 0.4126 - val_accuracy: 0.8565\n",
            "Epoch 13/20\n",
            "140/140 [==============================] - 39s 276ms/step - loss: 0.3901 - accuracy: 0.8683 - val_loss: 0.4109 - val_accuracy: 0.8565\n",
            "Epoch 14/20\n",
            "140/140 [==============================] - 40s 287ms/step - loss: 0.3894 - accuracy: 0.8683 - val_loss: 0.4147 - val_accuracy: 0.8565\n",
            "Epoch 15/20\n",
            "140/140 [==============================] - 37s 267ms/step - loss: 0.3895 - accuracy: 0.8683 - val_loss: 0.4108 - val_accuracy: 0.8565\n",
            "Epoch 16/20\n",
            "140/140 [==============================] - 38s 270ms/step - loss: 0.3896 - accuracy: 0.8683 - val_loss: 0.4122 - val_accuracy: 0.8565\n",
            "Epoch 17/20\n",
            "140/140 [==============================] - 37s 266ms/step - loss: 0.3899 - accuracy: 0.8683 - val_loss: 0.4107 - val_accuracy: 0.8565\n",
            "Epoch 18/20\n",
            "140/140 [==============================] - 36s 259ms/step - loss: 0.3894 - accuracy: 0.8683 - val_loss: 0.4108 - val_accuracy: 0.8565\n",
            "Epoch 19/20\n",
            "140/140 [==============================] - 38s 274ms/step - loss: 0.3891 - accuracy: 0.8683 - val_loss: 0.4106 - val_accuracy: 0.8565\n",
            "Epoch 20/20\n",
            "140/140 [==============================] - 36s 258ms/step - loss: 0.3891 - accuracy: 0.8683 - val_loss: 0.4138 - val_accuracy: 0.8565\n"
          ],
          "name": "stdout"
        },
        {
          "output_type": "execute_result",
          "data": {
            "text/plain": [
              "<tensorflow.python.keras.callbacks.History at 0x7ff8aa385210>"
            ]
          },
          "metadata": {
            "tags": []
          },
          "execution_count": 50
        }
      ]
    },
    {
      "cell_type": "code",
      "metadata": {
        "id": "dtMPdfK2RoHv",
        "outputId": "f0f581a3-3a53-427b-ba6a-4df5559e890e"
      },
      "source": [
        "cnn1d_model = tfk.Sequential()\n",
        "cnn1d_model.add(tfkl.Conv1D(16, 3, activation='relu',input_shape=X_train.shape[1:]))\n",
        "cnn1d_model.add(tfkl.MaxPooling1D(pool_size=2,strides=1, padding='valid'))\n",
        "cnn1d_model.add(tfkl.Conv1D(32, 3, activation='relu'))\n",
        "cnn1d_model.add(tfkl.MaxPooling1D(pool_size=2,strides=1, padding='valid'))\n",
        "cnn1d_model.add(tfkl.Flatten())\n",
        "cnn1d_model.add(tfkl.Dense(8,activation=\"relu\"))\n",
        "cnn1d_model.add(tfkl.Dense(1,activation=\"sigmoid\"))\n",
        "cnn1d_model.compile(loss='binary_crossentropy', optimizer=tfk.optimizers.Adam(),metrics=[\"accuracy\"])\n",
        "cnn1d_model.summary()"
      ],
      "execution_count": null,
      "outputs": [
        {
          "output_type": "stream",
          "text": [
            "Model: \"sequential_11\"\n",
            "_________________________________________________________________\n",
            "Layer (type)                 Output Shape              Param #   \n",
            "=================================================================\n",
            "conv1d_7 (Conv1D)            (None, 998, 16)           64        \n",
            "_________________________________________________________________\n",
            "max_pooling1d_7 (MaxPooling1 (None, 997, 16)           0         \n",
            "_________________________________________________________________\n",
            "conv1d_8 (Conv1D)            (None, 995, 32)           1568      \n",
            "_________________________________________________________________\n",
            "max_pooling1d_8 (MaxPooling1 (None, 994, 32)           0         \n",
            "_________________________________________________________________\n",
            "flatten_1 (Flatten)          (None, 31808)             0         \n",
            "_________________________________________________________________\n",
            "dense_21 (Dense)             (None, 8)                 254472    \n",
            "_________________________________________________________________\n",
            "dense_22 (Dense)             (None, 1)                 9         \n",
            "=================================================================\n",
            "Total params: 256,113\n",
            "Trainable params: 256,113\n",
            "Non-trainable params: 0\n",
            "_________________________________________________________________\n"
          ],
          "name": "stdout"
        }
      ]
    },
    {
      "cell_type": "code",
      "metadata": {
        "id": "QWPqK3exRoHv",
        "outputId": "3688a2eb-44f3-4583-efaa-b00804d515f4"
      },
      "source": [
        "cnn1d_model.fit(X_train,y_train,epochs=10,validation_data=(X_test, y_test))"
      ],
      "execution_count": null,
      "outputs": [
        {
          "output_type": "stream",
          "text": [
            "Epoch 1/10\n",
            "140/140 [==============================] - 3s 24ms/step - loss: 0.2897 - accuracy: 0.8670 - val_loss: 0.1769 - val_accuracy: 0.9641\n",
            "Epoch 2/10\n",
            "140/140 [==============================] - 3s 25ms/step - loss: 0.1440 - accuracy: 0.9697 - val_loss: 0.1622 - val_accuracy: 0.9749\n",
            "Epoch 3/10\n",
            "140/140 [==============================] - 4s 26ms/step - loss: 0.1059 - accuracy: 0.9735 - val_loss: 0.1021 - val_accuracy: 0.9767\n",
            "Epoch 4/10\n",
            "140/140 [==============================] - 4s 26ms/step - loss: 0.0557 - accuracy: 0.9814 - val_loss: 0.0936 - val_accuracy: 0.9794\n",
            "Epoch 5/10\n",
            "140/140 [==============================] - 3s 25ms/step - loss: 0.0420 - accuracy: 0.9870 - val_loss: 0.1060 - val_accuracy: 0.9785\n",
            "Epoch 6/10\n",
            "140/140 [==============================] - 3s 25ms/step - loss: 0.0346 - accuracy: 0.9904 - val_loss: 0.0921 - val_accuracy: 0.9821\n",
            "Epoch 7/10\n",
            "140/140 [==============================] - 3s 25ms/step - loss: 0.0264 - accuracy: 0.9937 - val_loss: 0.0943 - val_accuracy: 0.9803\n",
            "Epoch 8/10\n",
            "140/140 [==============================] - 4s 26ms/step - loss: 0.0228 - accuracy: 0.9948 - val_loss: 0.0964 - val_accuracy: 0.9839\n",
            "Epoch 9/10\n",
            "140/140 [==============================] - 3s 25ms/step - loss: 0.0200 - accuracy: 0.9951 - val_loss: 0.0961 - val_accuracy: 0.9821\n",
            "Epoch 10/10\n",
            "140/140 [==============================] - 3s 24ms/step - loss: 0.0179 - accuracy: 0.9957 - val_loss: 0.1055 - val_accuracy: 0.9821\n"
          ],
          "name": "stdout"
        },
        {
          "output_type": "execute_result",
          "data": {
            "text/plain": [
              "<tensorflow.python.keras.callbacks.History at 0x7ff909084cd0>"
            ]
          },
          "metadata": {
            "tags": []
          },
          "execution_count": 52
        }
      ]
    },
    {
      "cell_type": "code",
      "metadata": {
        "id": "FMmGspBNRoHv"
      },
      "source": [
        "from sklearn.metrics import roc_curve"
      ],
      "execution_count": null,
      "outputs": []
    },
    {
      "cell_type": "code",
      "metadata": {
        "id": "W2il9UEXRoHv"
      },
      "source": [
        "y_pred_lstm = model.predict(X_test).ravel()\n",
        "fpr_lstm, tpr_lstm, thresholds_lstm = roc_curve(y_test, y_pred_lstm)\n",
        "\n",
        "y_pred_cnn = cnn1d_model.predict(X_test).ravel()\n",
        "fpr_cnn, tpr_cnn, thresholds_cnn = roc_curve(y_test, y_pred_cnn)"
      ],
      "execution_count": null,
      "outputs": []
    },
    {
      "cell_type": "code",
      "metadata": {
        "id": "ukcI8df5RoHv",
        "outputId": "97bf6849-1e9e-40c5-f878-2e04e0a38288"
      },
      "source": [
        "import matplotlib.pyplot as plt\n",
        "from sklearn.metrics import auc\n",
        "\n",
        "auc_lstm = auc(fpr_lstm, tpr_lstm)\n",
        "auc_cnn = auc(fpr_cnn, tpr_cnn)\n",
        "\n",
        "plt.figure(1)\n",
        "plt.plot([0, 1], [0, 1], 'k--')\n",
        "plt.plot(fpr_lstm, tpr_lstm, label='LSTM (area = {:.3f})'.format(auc_lstm))\n",
        "plt.plot(fpr_cnn, tpr_cnn, label='CNN1D (area = {:.3f})'.format(auc_cnn))\n",
        "plt.xlabel('False positive rate')\n",
        "plt.ylabel('True positive rate')\n",
        "plt.title('ROC curve')\n",
        "plt.legend(loc='best')\n",
        "plt.show()"
      ],
      "execution_count": null,
      "outputs": [
        {
          "output_type": "display_data",
          "data": {
            "image/png": "[encoded data removed]",
            "text/plain": [
              "<Figure size 432x288 with 1 Axes>"
            ]
          },
          "metadata": {
            "tags": [],
            "needs_background": "light"
          }
        }
      ]
    },
    {
      "cell_type": "code",
      "metadata": {
        "id": "0qwGczR1RoHw",
        "outputId": "fc6c2020-1d67-4239-82ab-d713d003f7bf"
      },
      "source": [
        "transform = transforms.Compose(\n",
        "    [transforms.ToTensor(),\n",
        "     transforms.Normalize((0.5, 0.5, 0.5), (0.5, 0.5, 0.5))])\n",
        "\n",
        "trainset = torchvision.datasets.CIFAR10(root='./data', train=True,\n",
        "                                        download=True, transform=transform)\n",
        "trainloader = torch.utils.data.DataLoader(trainset, batch_size=4,\n",
        "                                          shuffle=True, num_workers=2)\n",
        "\n",
        "testset = torchvision.datasets.CIFAR10(root='./data', train=False,\n",
        "                                       download=True, transform=transform)\n",
        "testloader = torch.utils.data.DataLoader(testset, batch_size=4,\n",
        "                                         shuffle=False, num_workers=2)\n",
        "\n",
        "classes = ('plane', 'car', 'bird', 'cat',\n",
        "           'deer', 'dog', 'frog', 'horse', 'ship', 'truck')"
      ],
      "execution_count": null,
      "outputs": [
        {
          "output_type": "stream",
          "text": [
            "\r0.00B [00:00, ?B/s]"
          ],
          "name": "stderr"
        },
        {
          "output_type": "stream",
          "text": [
            "Downloading https://www.cs.toronto.edu/~kriz/cifar-10-python.tar.gz to ./data/cifar-10-python.tar.gz\n"
          ],
          "name": "stdout"
        },
        {
          "output_type": "stream",
          "text": [
            "100%|█████████▉| 170M/170M [00:31<00:00, 5.91MB/s] "
          ],
          "name": "stderr"
        },
        {
          "output_type": "stream",
          "text": [
            "Files already downloaded and verified\n"
          ],
          "name": "stdout"
        },
        {
          "output_type": "stream",
          "text": [
            "\r171MB [00:50, 5.91MB/s]                           "
          ],
          "name": "stderr"
        }
      ]
    },
    {
      "cell_type": "code",
      "metadata": {
        "id": "pTyEqMM-RoHw"
      },
      "source": [
        "import torch.nn as nn\n",
        "import torch.nn.functional as F\n",
        "\n",
        "\n",
        "class Net(nn.Module):\n",
        "    def __init__(self):\n",
        "        super(Net, self).__init__()\n",
        "        self.conv1 = nn.Conv2d(3, 6, 5)\n",
        "        self.pool = nn.MaxPool2d(2, 2)\n",
        "        self.conv2 = nn.Conv2d(6, 16, 5)\n",
        "        self.fc1 = nn.Linear(16 * 5 * 5, 120)\n",
        "        self.fc2 = nn.Linear(120, 84)\n",
        "        self.fc3 = nn.Linear(84, 10)\n",
        "\n",
        "    def forward(self, x):\n",
        "        x = self.pool(F.relu(self.conv1(x)))\n",
        "        x = self.pool(F.relu(self.conv2(x)))\n",
        "        x = x.view(-1, 16 * 5 * 5)\n",
        "        x = F.relu(self.fc1(x))\n",
        "        x = F.relu(self.fc2(x))\n",
        "        x = self.fc3(x)\n",
        "        return x\n",
        "\n",
        "\n",
        "net = Net()"
      ],
      "execution_count": null,
      "outputs": []
    },
    {
      "cell_type": "code",
      "metadata": {
        "id": "LAlL2mqcRoHx"
      },
      "source": [
        "import torch.optim as optim\n",
        "\n",
        "criterion = nn.CrossEntropyLoss()\n",
        "optimizer = optim.SGD(net.parameters(), lr=0.001, momentum=0.9)"
      ],
      "execution_count": null,
      "outputs": []
    },
    {
      "cell_type": "code",
      "metadata": {
        "id": "xZIIbJ1mRoHx",
        "outputId": "336f74be-0769-4a17-8c06-f302883b5ac0"
      },
      "source": [
        "import numpy as np\n",
        "\n",
        "dataiter = iter(trainloader)\n",
        "images, labels = dataiter.next()\n",
        "\n",
        "for epoch in range(2):  \n",
        "\n",
        "    running_loss = 0.0\n",
        "    for i, data in enumerate(trainloader, 0):\n",
        "        inputs, labels = data\n",
        "\n",
        "        \n",
        "        optimizer.zero_grad()\n",
        "\n",
        "        outputs = net(inputs)\n",
        "        loss = criterion(outputs, labels)\n",
        "        loss.backward()\n",
        "        optimizer.step()\n",
        "\n",
        "        running_loss += loss.item()\n",
        "        if i % 2000 == 1999:\n",
        "            print('[%d, %5d] loss: %.3f' %\n",
        "                  (epoch + 1, i + 1, running_loss / 2000))\n",
        "            running_loss = 0.0\n",
        "\n",
        "print('Finished Training')"
      ],
      "execution_count": null,
      "outputs": [
        {
          "output_type": "stream",
          "text": [
            "[1,  2000] loss: 1.183\n",
            "[1,  4000] loss: 1.193\n",
            "[1,  6000] loss: 1.172\n",
            "[1,  8000] loss: 1.174\n",
            "[1, 10000] loss: 1.154\n",
            "[1, 12000] loss: 1.162\n",
            "[2,  2000] loss: 1.074\n",
            "[2,  4000] loss: 1.081\n",
            "[2,  6000] loss: 1.073\n",
            "[2,  8000] loss: 1.098\n",
            "[2, 10000] loss: 1.076\n",
            "[2, 12000] loss: 1.077\n",
            "Finished Training\n"
          ],
          "name": "stdout"
        }
      ]
    }
  ]
}